{
 "cells": [
  {
   "cell_type": "code",
   "execution_count": 2,
   "metadata": {},
   "outputs": [],
   "source": [
    "import pandas as pd\n",
    "import numpy as np\n",
    "import seaborn as sns\n",
    "from matplotlib import pyplot as plt"
   ]
  },
  {
   "cell_type": "code",
   "execution_count": 47,
   "metadata": {
    "scrolled": true
   },
   "outputs": [],
   "source": [
    "df = pd.read_csv('2019-2.csv')"
   ]
  },
  {
   "cell_type": "code",
   "execution_count": 48,
   "metadata": {},
   "outputs": [],
   "source": [
    "df.drop(['Rk', '2PM', '2PP', 'FantPt', 'DKPt', \n",
    "         'FDPt', 'VBD', 'OvRank', 'PPR', \n",
    "         'Fmb', 'GS', 'Age', 'Tgt', 'Y/A', 'Att', 'Att.1',\n",
    "        'Cmp', 'Y/R'], axis = 1, inplace = True)"
   ]
  },
  {
   "cell_type": "code",
   "execution_count": 49,
   "metadata": {},
   "outputs": [],
   "source": [
    "df['Player'] = df['Player'].apply(lambda x: x.split('*')[0]).apply(lambda x: x.split('\\\\')[0])"
   ]
  },
  {
   "cell_type": "code",
   "execution_count": 50,
   "metadata": {},
   "outputs": [],
   "source": [
    "df.rename({\n",
    "    'TD': 'PassingTD', \n",
    "    'TD.1': 'RushingTD', \n",
    "    'TD.2': 'ReceivingTD', \n",
    "    'TD.3': 'TotalTD', \n",
    "    'Yds': 'PassingYds', \n",
    "    'Yds.1': 'RushingYds', \n",
    "    'Yds.2': 'ReceivingYds', \n",
    "    'Att': 'PassingAtt', \n",
    "    'Att.1': 'RushingAtt'\n",
    "}, axis = 1, inplace = True)"
   ]
  },
  {
   "cell_type": "code",
   "execution_count": 51,
   "metadata": {},
   "outputs": [],
   "source": [
    "df['FantasyPoints'] = (df['PassingYds']*0.04 + df['PassingTD'] * 4 \n",
    "                       - df['Int']*2 + df['RushingYds']*0.1 + \n",
    "                       df['RushingTD']*6 + df['Rec']*0.5 + \n",
    "                       df['ReceivingYds']*0.1 + df['ReceivingTD']*.6 \n",
    "                       - df['FL']*2)\n"
   ]
  },
  {
   "cell_type": "code",
   "execution_count": 52,
   "metadata": {},
   "outputs": [],
   "source": [
    "df['FantasyPoints/GM'] = df['FantasyPoints']/df['G']"
   ]
  },
  {
   "cell_type": "code",
   "execution_count": 53,
   "metadata": {},
   "outputs": [],
   "source": [
    "df = df[df['Tm'] != '2TM']\n",
    "df = df[df['Tm'] != '3TM']"
   ]
  },
  {
   "cell_type": "code",
   "execution_count": 54,
   "metadata": {},
   "outputs": [
    {
     "name": "stderr",
     "output_type": "stream",
     "text": [
      "C:\\Users\\cjohn\\Anaconda3\\lib\\site-packages\\ipykernel_launcher.py:2: SettingWithCopyWarning: \n",
      "A value is trying to be set on a copy of a slice from a DataFrame.\n",
      "Try using .loc[row_indexer,col_indexer] = value instead\n",
      "\n",
      "See the caveats in the documentation: http://pandas.pydata.org/pandas-docs/stable/indexing.html#indexing-view-versus-copy\n",
      "  \n"
     ]
    }
   ],
   "source": [
    "rb_df = df[df['FantPos'] == 'RB']\n",
    "rb_df['Rec/GM'] = rb_df['Rec']/rb_df['G']\n",
    "rb_df = rb_df[rb_df['Rec/GM'] >3]"
   ]
  },
  {
   "cell_type": "code",
   "execution_count": 56,
   "metadata": {
    "scrolled": true
   },
   "outputs": [
    {
     "data": {
      "text/plain": [
       "Player              18\n",
       "Tm                  18\n",
       "FantPos             18\n",
       "G                   18\n",
       "PassingYds          18\n",
       "PassingTD           18\n",
       "Int                 18\n",
       "RushingYds          18\n",
       "RushingTD           18\n",
       "Rec                 18\n",
       "ReceivingYds        18\n",
       "ReceivingTD         18\n",
       "FL                  18\n",
       "TotalTD             18\n",
       "PosRank             18\n",
       "FantasyPoints       18\n",
       "FantasyPoints/GM    18\n",
       "Rec/GM              18\n",
       "dtype: int64"
      ]
     },
     "execution_count": 56,
     "metadata": {},
     "output_type": "execute_result"
    }
   ],
   "source": [
    "rb_df.count()"
   ]
  },
  {
   "cell_type": "code",
   "execution_count": 57,
   "metadata": {},
   "outputs": [],
   "source": [
    "df = df[['Tm', 'FantPos', 'FantasyPoints', 'FantasyPoints/GM']]\n",
    "rb_df = rb_df[['Tm', 'FantPos', 'FantasyPoints', 'FantasyPoints/GM']]"
   ]
  },
  {
   "cell_type": "code",
   "execution_count": 58,
   "metadata": {},
   "outputs": [],
   "source": [
    "qb_df = df[df['FantPos'] == 'QB']\n",
    "wr_df = df[df['FantPos'] == 'WR']\n",
    "te_df = df[df['FantPos'] == 'TE']"
   ]
  },
  {
   "cell_type": "code",
   "execution_count": 59,
   "metadata": {
    "scrolled": true
   },
   "outputs": [
    {
     "data": {
      "text/html": [
       "<div>\n",
       "<style scoped>\n",
       "    .dataframe tbody tr th:only-of-type {\n",
       "        vertical-align: middle;\n",
       "    }\n",
       "\n",
       "    .dataframe tbody tr th {\n",
       "        vertical-align: top;\n",
       "    }\n",
       "\n",
       "    .dataframe thead th {\n",
       "        text-align: right;\n",
       "    }\n",
       "</style>\n",
       "<table border=\"1\" class=\"dataframe\">\n",
       "  <thead>\n",
       "    <tr style=\"text-align: right;\">\n",
       "      <th></th>\n",
       "      <th>Tm</th>\n",
       "      <th>FantPos</th>\n",
       "      <th>FantasyPoints</th>\n",
       "      <th>FantasyPoints/GM</th>\n",
       "    </tr>\n",
       "  </thead>\n",
       "  <tbody>\n",
       "    <tr>\n",
       "      <th>0</th>\n",
       "      <td>CAR</td>\n",
       "      <td>RB</td>\n",
       "      <td>389.6</td>\n",
       "      <td>24.350000</td>\n",
       "    </tr>\n",
       "    <tr>\n",
       "      <th>3</th>\n",
       "      <td>GNB</td>\n",
       "      <td>RB</td>\n",
       "      <td>274.1</td>\n",
       "      <td>17.131250</td>\n",
       "    </tr>\n",
       "    <tr>\n",
       "      <th>4</th>\n",
       "      <td>DAL</td>\n",
       "      <td>RB</td>\n",
       "      <td>273.9</td>\n",
       "      <td>17.118750</td>\n",
       "    </tr>\n",
       "    <tr>\n",
       "      <th>5</th>\n",
       "      <td>MIN</td>\n",
       "      <td>RB</td>\n",
       "      <td>265.9</td>\n",
       "      <td>18.992857</td>\n",
       "    </tr>\n",
       "    <tr>\n",
       "      <th>9</th>\n",
       "      <td>LAC</td>\n",
       "      <td>RB</td>\n",
       "      <td>219.8</td>\n",
       "      <td>13.737500</td>\n",
       "    </tr>\n",
       "  </tbody>\n",
       "</table>\n",
       "</div>"
      ],
      "text/plain": [
       "    Tm FantPos  FantasyPoints  FantasyPoints/GM\n",
       "0  CAR      RB          389.6         24.350000\n",
       "3  GNB      RB          274.1         17.131250\n",
       "4  DAL      RB          273.9         17.118750\n",
       "5  MIN      RB          265.9         18.992857\n",
       "9  LAC      RB          219.8         13.737500"
      ]
     },
     "execution_count": 59,
     "metadata": {},
     "output_type": "execute_result"
    }
   ],
   "source": [
    "rb_df.head()"
   ]
  },
  {
   "cell_type": "code",
   "execution_count": 60,
   "metadata": {},
   "outputs": [
    {
     "data": {
      "text/html": [
       "<div>\n",
       "<style scoped>\n",
       "    .dataframe tbody tr th:only-of-type {\n",
       "        vertical-align: middle;\n",
       "    }\n",
       "\n",
       "    .dataframe tbody tr th {\n",
       "        vertical-align: top;\n",
       "    }\n",
       "\n",
       "    .dataframe thead th {\n",
       "        text-align: right;\n",
       "    }\n",
       "</style>\n",
       "<table border=\"1\" class=\"dataframe\">\n",
       "  <thead>\n",
       "    <tr style=\"text-align: right;\">\n",
       "      <th></th>\n",
       "      <th>QB1</th>\n",
       "      <th>RB1</th>\n",
       "      <th>RB2</th>\n",
       "      <th>WR1</th>\n",
       "      <th>WR2</th>\n",
       "      <th>WR3</th>\n",
       "      <th>TE</th>\n",
       "    </tr>\n",
       "  </thead>\n",
       "  <tbody>\n",
       "    <tr>\n",
       "      <th>0</th>\n",
       "      <td>-1.540833</td>\n",
       "      <td>-1.759926</td>\n",
       "      <td>0.715773</td>\n",
       "      <td>0.257326</td>\n",
       "      <td>-1.119440</td>\n",
       "      <td>0.810333</td>\n",
       "      <td>0.822485</td>\n",
       "    </tr>\n",
       "    <tr>\n",
       "      <th>1</th>\n",
       "      <td>0.041393</td>\n",
       "      <td>0.320474</td>\n",
       "      <td>1.379578</td>\n",
       "      <td>-0.070046</td>\n",
       "      <td>0.625485</td>\n",
       "      <td>-1.037128</td>\n",
       "      <td>1.315871</td>\n",
       "    </tr>\n",
       "    <tr>\n",
       "      <th>2</th>\n",
       "      <td>0.205357</td>\n",
       "      <td>-1.160147</td>\n",
       "      <td>0.155462</td>\n",
       "      <td>-0.373761</td>\n",
       "      <td>-1.216660</td>\n",
       "      <td>0.856757</td>\n",
       "      <td>-1.284184</td>\n",
       "    </tr>\n",
       "    <tr>\n",
       "      <th>3</th>\n",
       "      <td>1.342501</td>\n",
       "      <td>-0.501244</td>\n",
       "      <td>-0.225877</td>\n",
       "      <td>1.548498</td>\n",
       "      <td>1.242791</td>\n",
       "      <td>0.225793</td>\n",
       "      <td>-0.855070</td>\n",
       "    </tr>\n",
       "    <tr>\n",
       "      <th>4</th>\n",
       "      <td>-0.253734</td>\n",
       "      <td>1.050282</td>\n",
       "      <td>0.581600</td>\n",
       "      <td>0.367709</td>\n",
       "      <td>-0.264864</td>\n",
       "      <td>1.160197</td>\n",
       "      <td>0.192070</td>\n",
       "    </tr>\n",
       "    <tr>\n",
       "      <th>5</th>\n",
       "      <td>0.750978</td>\n",
       "      <td>-1.187718</td>\n",
       "      <td>-0.007064</td>\n",
       "      <td>0.909151</td>\n",
       "      <td>-0.000409</td>\n",
       "      <td>-1.024048</td>\n",
       "      <td>1.246885</td>\n",
       "    </tr>\n",
       "    <tr>\n",
       "      <th>6</th>\n",
       "      <td>-0.641549</td>\n",
       "      <td>0.175793</td>\n",
       "      <td>0.840970</td>\n",
       "      <td>0.974862</td>\n",
       "      <td>-0.272688</td>\n",
       "      <td>1.146652</td>\n",
       "      <td>-0.575864</td>\n",
       "    </tr>\n",
       "    <tr>\n",
       "      <th>7</th>\n",
       "      <td>0.843652</td>\n",
       "      <td>-0.889872</td>\n",
       "      <td>-0.217683</td>\n",
       "      <td>-0.943221</td>\n",
       "      <td>-1.542629</td>\n",
       "      <td>-0.298576</td>\n",
       "      <td>-0.776044</td>\n",
       "    </tr>\n",
       "    <tr>\n",
       "      <th>8</th>\n",
       "      <td>-0.717026</td>\n",
       "      <td>-0.166538</td>\n",
       "      <td>-1.052585</td>\n",
       "      <td>0.575615</td>\n",
       "      <td>-0.989765</td>\n",
       "      <td>-0.259680</td>\n",
       "      <td>-0.002119</td>\n",
       "    </tr>\n",
       "    <tr>\n",
       "      <th>9</th>\n",
       "      <td>0.095996</td>\n",
       "      <td>-0.383255</td>\n",
       "      <td>1.328860</td>\n",
       "      <td>-0.305941</td>\n",
       "      <td>-0.370033</td>\n",
       "      <td>-1.597248</td>\n",
       "      <td>-0.988427</td>\n",
       "    </tr>\n",
       "  </tbody>\n",
       "</table>\n",
       "</div>"
      ],
      "text/plain": [
       "        QB1       RB1       RB2       WR1       WR2       WR3        TE\n",
       "0 -1.540833 -1.759926  0.715773  0.257326 -1.119440  0.810333  0.822485\n",
       "1  0.041393  0.320474  1.379578 -0.070046  0.625485 -1.037128  1.315871\n",
       "2  0.205357 -1.160147  0.155462 -0.373761 -1.216660  0.856757 -1.284184\n",
       "3  1.342501 -0.501244 -0.225877  1.548498  1.242791  0.225793 -0.855070\n",
       "4 -0.253734  1.050282  0.581600  0.367709 -0.264864  1.160197  0.192070\n",
       "5  0.750978 -1.187718 -0.007064  0.909151 -0.000409 -1.024048  1.246885\n",
       "6 -0.641549  0.175793  0.840970  0.974862 -0.272688  1.146652 -0.575864\n",
       "7  0.843652 -0.889872 -0.217683 -0.943221 -1.542629 -0.298576 -0.776044\n",
       "8 -0.717026 -0.166538 -1.052585  0.575615 -0.989765 -0.259680 -0.002119\n",
       "9  0.095996 -0.383255  1.328860 -0.305941 -0.370033 -1.597248 -0.988427"
      ]
     },
     "execution_count": 60,
     "metadata": {},
     "output_type": "execute_result"
    }
   ],
   "source": [
    "ex_col_names = ['QB1', 'RB1', 'RB2', 'WR1', 'WR2', 'WR3', 'TE']\n",
    "\n",
    "rand_num = np.random.randn(10,7)\n",
    "\n",
    "example_df = pd.DataFrame(rand_num, columns = ex_col_names)\n",
    "\n",
    "example_df"
   ]
  },
  {
   "cell_type": "code",
   "execution_count": 61,
   "metadata": {},
   "outputs": [],
   "source": [
    "def  get_top_players(df,n):\n",
    "    return df.groupby('Tm').apply(lambda x: x.nlargest(n, \n",
    "        ['FantasyPoints']).min()).reset_index(drop = True)"
   ]
  },
  {
   "cell_type": "code",
   "execution_count": 62,
   "metadata": {},
   "outputs": [],
   "source": [
    "qb_df = get_top_players(qb_df,1)\n",
    "te_df = get_top_players(te_df,1)\n",
    "rb1_df = get_top_players(rb_df,1)\n",
    "rb2_df = get_top_players(rb_df,2)\n",
    "wr1_df = get_top_players(wr_df,1)\n",
    "wr2_df = get_top_players(wr_df,2)\n",
    "wr3_df = get_top_players(wr_df,3)"
   ]
  },
  {
   "cell_type": "code",
   "execution_count": 63,
   "metadata": {},
   "outputs": [],
   "source": [
    "new_names = {\n",
    "    'QB1': qb_df,\n",
    "    'TE1': te_df,\n",
    "    'RB1': rb1_df,\n",
    "    'RB2': rb2_df,\n",
    "    'WR1': wr1_df,\n",
    "    'WR2': wr2_df,\n",
    "    'WR3': wr3_df\n",
    "}"
   ]
  },
  {
   "cell_type": "code",
   "execution_count": 64,
   "metadata": {},
   "outputs": [],
   "source": [
    "for name, new_df in new_names.items():\n",
    "    new_df.rename({'FantasyPoints/GM': name}, axis=1, inplace=True)\n",
    "    new_df.drop(['FantPos', 'FantasyPoints'], axis=1, inplace=True)\n",
    "    new_df.set_index('Tm', inplace=True)"
   ]
  },
  {
   "cell_type": "code",
   "execution_count": 65,
   "metadata": {},
   "outputs": [
    {
     "name": "stderr",
     "output_type": "stream",
     "text": [
      "C:\\Users\\cjohn\\Anaconda3\\lib\\site-packages\\ipykernel_launcher.py:1: FutureWarning: Sorting because non-concatenation axis is not aligned. A future version\n",
      "of pandas will change to not sort by default.\n",
      "\n",
      "To accept the future behavior, pass 'sort=False'.\n",
      "\n",
      "To retain the current behavior and silence the warning, pass 'sort=True'.\n",
      "\n",
      "  \"\"\"Entry point for launching an IPython kernel.\n"
     ]
    }
   ],
   "source": [
    "df = pd.concat([qb_df, te_df, rb1_df, rb2_df, wr1_df, wr2_df, wr3_df], axis=1)"
   ]
  },
  {
   "cell_type": "code",
   "execution_count": 66,
   "metadata": {
    "scrolled": true
   },
   "outputs": [
    {
     "data": {
      "text/html": [
       "<div>\n",
       "<style scoped>\n",
       "    .dataframe tbody tr th:only-of-type {\n",
       "        vertical-align: middle;\n",
       "    }\n",
       "\n",
       "    .dataframe tbody tr th {\n",
       "        vertical-align: top;\n",
       "    }\n",
       "\n",
       "    .dataframe thead th {\n",
       "        text-align: right;\n",
       "    }\n",
       "</style>\n",
       "<table border=\"1\" class=\"dataframe\">\n",
       "  <thead>\n",
       "    <tr style=\"text-align: right;\">\n",
       "      <th></th>\n",
       "      <th>QB1</th>\n",
       "      <th>TE1</th>\n",
       "      <th>RB1</th>\n",
       "      <th>RB2</th>\n",
       "      <th>WR1</th>\n",
       "      <th>WR2</th>\n",
       "      <th>WR3</th>\n",
       "    </tr>\n",
       "  </thead>\n",
       "  <tbody>\n",
       "    <tr>\n",
       "      <th>ARI</th>\n",
       "      <td>17.455000</td>\n",
       "      <td>2.220000</td>\n",
       "      <td>NaN</td>\n",
       "      <td>NaN</td>\n",
       "      <td>7.393750</td>\n",
       "      <td>7.393750</td>\n",
       "      <td>4.590909</td>\n",
       "    </tr>\n",
       "    <tr>\n",
       "      <th>ATL</th>\n",
       "      <td>17.689333</td>\n",
       "      <td>9.215385</td>\n",
       "      <td>10.464286</td>\n",
       "      <td>10.464286</td>\n",
       "      <td>12.813333</td>\n",
       "      <td>9.669231</td>\n",
       "      <td>4.306250</td>\n",
       "    </tr>\n",
       "    <tr>\n",
       "      <th>BAL</th>\n",
       "      <td>27.712000</td>\n",
       "      <td>8.080000</td>\n",
       "      <td>NaN</td>\n",
       "      <td>NaN</td>\n",
       "      <td>6.114286</td>\n",
       "      <td>3.287500</td>\n",
       "      <td>2.425000</td>\n",
       "    </tr>\n",
       "    <tr>\n",
       "      <th>BUF</th>\n",
       "      <td>17.660000</td>\n",
       "      <td>3.660000</td>\n",
       "      <td>NaN</td>\n",
       "      <td>NaN</td>\n",
       "      <td>10.094667</td>\n",
       "      <td>7.660000</td>\n",
       "      <td>2.960000</td>\n",
       "    </tr>\n",
       "    <tr>\n",
       "      <th>CAR</th>\n",
       "      <td>13.652308</td>\n",
       "      <td>6.207143</td>\n",
       "      <td>24.350000</td>\n",
       "      <td>24.350000</td>\n",
       "      <td>11.026667</td>\n",
       "      <td>7.018750</td>\n",
       "      <td>2.681250</td>\n",
       "    </tr>\n",
       "  </tbody>\n",
       "</table>\n",
       "</div>"
      ],
      "text/plain": [
       "           QB1       TE1        RB1        RB2        WR1       WR2       WR3\n",
       "ARI  17.455000  2.220000        NaN        NaN   7.393750  7.393750  4.590909\n",
       "ATL  17.689333  9.215385  10.464286  10.464286  12.813333  9.669231  4.306250\n",
       "BAL  27.712000  8.080000        NaN        NaN   6.114286  3.287500  2.425000\n",
       "BUF  17.660000  3.660000        NaN        NaN  10.094667  7.660000  2.960000\n",
       "CAR  13.652308  6.207143  24.350000  24.350000  11.026667  7.018750  2.681250"
      ]
     },
     "execution_count": 66,
     "metadata": {},
     "output_type": "execute_result"
    }
   ],
   "source": [
    "df.head()"
   ]
  },
  {
   "cell_type": "code",
   "execution_count": 67,
   "metadata": {},
   "outputs": [
    {
     "data": {
      "text/html": [
       "<div>\n",
       "<style scoped>\n",
       "    .dataframe tbody tr th:only-of-type {\n",
       "        vertical-align: middle;\n",
       "    }\n",
       "\n",
       "    .dataframe tbody tr th {\n",
       "        vertical-align: top;\n",
       "    }\n",
       "\n",
       "    .dataframe thead th {\n",
       "        text-align: right;\n",
       "    }\n",
       "</style>\n",
       "<table border=\"1\" class=\"dataframe\">\n",
       "  <thead>\n",
       "    <tr style=\"text-align: right;\">\n",
       "      <th></th>\n",
       "      <th>QB1</th>\n",
       "      <th>TE1</th>\n",
       "      <th>RB1</th>\n",
       "      <th>RB2</th>\n",
       "      <th>WR1</th>\n",
       "      <th>WR2</th>\n",
       "      <th>WR3</th>\n",
       "    </tr>\n",
       "  </thead>\n",
       "  <tbody>\n",
       "    <tr>\n",
       "      <th>QB1</th>\n",
       "      <td>1.000000</td>\n",
       "      <td>0.276943</td>\n",
       "      <td>0.339821</td>\n",
       "      <td>0.441866</td>\n",
       "      <td>0.143047</td>\n",
       "      <td>0.160265</td>\n",
       "      <td>0.099336</td>\n",
       "    </tr>\n",
       "    <tr>\n",
       "      <th>TE1</th>\n",
       "      <td>0.276943</td>\n",
       "      <td>1.000000</td>\n",
       "      <td>0.323428</td>\n",
       "      <td>0.338498</td>\n",
       "      <td>-0.012716</td>\n",
       "      <td>-0.033204</td>\n",
       "      <td>-0.128213</td>\n",
       "    </tr>\n",
       "    <tr>\n",
       "      <th>RB1</th>\n",
       "      <td>0.339821</td>\n",
       "      <td>0.323428</td>\n",
       "      <td>1.000000</td>\n",
       "      <td>0.958572</td>\n",
       "      <td>0.162107</td>\n",
       "      <td>0.209133</td>\n",
       "      <td>-0.034506</td>\n",
       "    </tr>\n",
       "    <tr>\n",
       "      <th>RB2</th>\n",
       "      <td>0.441866</td>\n",
       "      <td>0.338498</td>\n",
       "      <td>0.958572</td>\n",
       "      <td>1.000000</td>\n",
       "      <td>0.274133</td>\n",
       "      <td>0.193522</td>\n",
       "      <td>-0.084276</td>\n",
       "    </tr>\n",
       "    <tr>\n",
       "      <th>WR1</th>\n",
       "      <td>0.143047</td>\n",
       "      <td>-0.012716</td>\n",
       "      <td>0.162107</td>\n",
       "      <td>0.274133</td>\n",
       "      <td>1.000000</td>\n",
       "      <td>0.269784</td>\n",
       "      <td>-0.056759</td>\n",
       "    </tr>\n",
       "    <tr>\n",
       "      <th>WR2</th>\n",
       "      <td>0.160265</td>\n",
       "      <td>-0.033204</td>\n",
       "      <td>0.209133</td>\n",
       "      <td>0.193522</td>\n",
       "      <td>0.269784</td>\n",
       "      <td>1.000000</td>\n",
       "      <td>0.386603</td>\n",
       "    </tr>\n",
       "    <tr>\n",
       "      <th>WR3</th>\n",
       "      <td>0.099336</td>\n",
       "      <td>-0.128213</td>\n",
       "      <td>-0.034506</td>\n",
       "      <td>-0.084276</td>\n",
       "      <td>-0.056759</td>\n",
       "      <td>0.386603</td>\n",
       "      <td>1.000000</td>\n",
       "    </tr>\n",
       "  </tbody>\n",
       "</table>\n",
       "</div>"
      ],
      "text/plain": [
       "          QB1       TE1       RB1       RB2       WR1       WR2       WR3\n",
       "QB1  1.000000  0.276943  0.339821  0.441866  0.143047  0.160265  0.099336\n",
       "TE1  0.276943  1.000000  0.323428  0.338498 -0.012716 -0.033204 -0.128213\n",
       "RB1  0.339821  0.323428  1.000000  0.958572  0.162107  0.209133 -0.034506\n",
       "RB2  0.441866  0.338498  0.958572  1.000000  0.274133  0.193522 -0.084276\n",
       "WR1  0.143047 -0.012716  0.162107  0.274133  1.000000  0.269784 -0.056759\n",
       "WR2  0.160265 -0.033204  0.209133  0.193522  0.269784  1.000000  0.386603\n",
       "WR3  0.099336 -0.128213 -0.034506 -0.084276 -0.056759  0.386603  1.000000"
      ]
     },
     "execution_count": 67,
     "metadata": {},
     "output_type": "execute_result"
    }
   ],
   "source": [
    "df.corr()"
   ]
  },
  {
   "cell_type": "code",
   "execution_count": 68,
   "metadata": {},
   "outputs": [
    {
     "data": {
      "image/png": "[encoded data removed]",
      "text/plain": [
       "<Figure size 1080x720 with 2 Axes>"
      ]
     },
     "metadata": {
      "needs_background": "light"
     },
     "output_type": "display_data"
    }
   ],
   "source": [
    "corrMatrix = df.corr()\n",
    "\n",
    "fix,ax = plt.subplots()\n",
    "fix.set_size_inches(15,10)\n",
    "\n",
    "cmap = sns.diverging_palette(0,250, as_cmap = True)\n",
    "\n",
    "vizCorrMatrix = sns.heatmap(corrMatrix, cmap = cmap, center= 0)"
   ]
  },
  {
   "cell_type": "code",
   "execution_count": 71,
   "metadata": {},
   "outputs": [
    {
     "data": {
      "image/png": "[encoded data removed]",
      "text/plain": [
       "<Figure size 1080x720 with 2 Axes>"
      ]
     },
     "metadata": {
      "needs_background": "light"
     },
     "output_type": "display_data"
    }
   ],
   "source": [
    "fig,ax = plt.subplots()\n",
    "fig.set_size_inches(15,10)\n",
    "\n",
    "mask = np.zeros_like(corrMatrix, dtype=np.bool)\n",
    "mask[np.triu_indices_from(mask)]=True\n",
    "\n",
    "vizCorrMatrix = sns.heatmap(corrMatrix, mask= mask, cmap=cmap, center=0)"
   ]
  }
 ],
 "metadata": {
  "kernelspec": {
   "display_name": "Python 3",
   "language": "python",
   "name": "python3"
  },
  "language_info": {
   "codemirror_mode": {
    "name": "ipython",
    "version": 3
   },
   "file_extension": ".py",
   "mimetype": "text/x-python",
   "name": "python",
   "nbconvert_exporter": "python",
   "pygments_lexer": "ipython3",
   "version": "3.7.3"
  }
 },
 "nbformat": 4,
 "nbformat_minor": 2
}
